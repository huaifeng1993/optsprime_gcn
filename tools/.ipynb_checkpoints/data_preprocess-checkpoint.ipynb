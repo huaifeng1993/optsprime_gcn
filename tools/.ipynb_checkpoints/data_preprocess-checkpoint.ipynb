{
 "cells": [
  {
   "cell_type": "code",
   "execution_count": 1,
   "metadata": {},
   "outputs": [],
   "source": [
    "import numpy as np\n",
    "import pandas as pd\n",
    "import matplotlib.pyplot as plt\n",
    "import os"
   ]
  },
  {
   "cell_type": "code",
   "execution_count": 2,
   "metadata": {},
   "outputs": [
    {
     "data": {
      "text/html": [
       "<div>\n",
       "<style scoped>\n",
       "    .dataframe tbody tr th:only-of-type {\n",
       "        vertical-align: middle;\n",
       "    }\n",
       "\n",
       "    .dataframe tbody tr th {\n",
       "        vertical-align: top;\n",
       "    }\n",
       "\n",
       "    .dataframe thead th {\n",
       "        text-align: right;\n",
       "    }\n",
       "</style>\n",
       "<table border=\"1\" class=\"dataframe\">\n",
       "  <thead>\n",
       "    <tr style=\"text-align: right;\">\n",
       "      <th></th>\n",
       "      <th>creditcode</th>\n",
       "      <th>clientcode</th>\n",
       "      <th>branchcode</th>\n",
       "      <th>branch</th>\n",
       "      <th>sex</th>\n",
       "      <th>age</th>\n",
       "      <th>education</th>\n",
       "      <th>marriage</th>\n",
       "      <th>job</th>\n",
       "      <th>industry</th>\n",
       "      <th>...</th>\n",
       "      <th>officer4</th>\n",
       "      <th>officer5</th>\n",
       "      <th>officer3</th>\n",
       "      <th>officer1_ratio</th>\n",
       "      <th>officer2_ratio</th>\n",
       "      <th>officer3_ratio</th>\n",
       "      <th>officer5_ratio</th>\n",
       "      <th>year_found</th>\n",
       "      <th>gdp2015</th>\n",
       "      <th>gdp_per_2015</th>\n",
       "    </tr>\n",
       "    <tr>\n",
       "      <th>index</th>\n",
       "      <th></th>\n",
       "      <th></th>\n",
       "      <th></th>\n",
       "      <th></th>\n",
       "      <th></th>\n",
       "      <th></th>\n",
       "      <th></th>\n",
       "      <th></th>\n",
       "      <th></th>\n",
       "      <th></th>\n",
       "      <th></th>\n",
       "      <th></th>\n",
       "      <th></th>\n",
       "      <th></th>\n",
       "      <th></th>\n",
       "      <th></th>\n",
       "      <th></th>\n",
       "      <th></th>\n",
       "      <th></th>\n",
       "      <th></th>\n",
       "      <th></th>\n",
       "    </tr>\n",
       "  </thead>\n",
       "  <tbody>\n",
       "    <tr>\n",
       "      <th>0</th>\n",
       "      <td>192860</td>\n",
       "      <td>GSLT-0357323</td>\n",
       "      <td>GSLT</td>\n",
       "      <td>临洮</td>\n",
       "      <td>男</td>\n",
       "      <td>31.0</td>\n",
       "      <td>初中</td>\n",
       "      <td>已婚</td>\n",
       "      <td>商业、服务业人员</td>\n",
       "      <td>O-居民服务和其他服务业</td>\n",
       "      <td>...</td>\n",
       "      <td>0</td>\n",
       "      <td>15</td>\n",
       "      <td>1</td>\n",
       "      <td>0.0</td>\n",
       "      <td>0.157895</td>\n",
       "      <td>0.052632</td>\n",
       "      <td>0.789474</td>\n",
       "      <td>3</td>\n",
       "      <td>589067</td>\n",
       "      <td>10710.31</td>\n",
       "    </tr>\n",
       "    <tr>\n",
       "      <th>1</th>\n",
       "      <td>190000</td>\n",
       "      <td>GSLT-0357091</td>\n",
       "      <td>GSLT</td>\n",
       "      <td>临洮</td>\n",
       "      <td>男</td>\n",
       "      <td>32.0</td>\n",
       "      <td>高中</td>\n",
       "      <td>已婚</td>\n",
       "      <td>商业、服务业人员</td>\n",
       "      <td>R-文化、体育和娱乐业</td>\n",
       "      <td>...</td>\n",
       "      <td>0</td>\n",
       "      <td>15</td>\n",
       "      <td>1</td>\n",
       "      <td>0.0</td>\n",
       "      <td>0.157895</td>\n",
       "      <td>0.052632</td>\n",
       "      <td>0.789474</td>\n",
       "      <td>3</td>\n",
       "      <td>589067</td>\n",
       "      <td>10710.31</td>\n",
       "    </tr>\n",
       "    <tr>\n",
       "      <th>2</th>\n",
       "      <td>239297</td>\n",
       "      <td>GSLT-0357730</td>\n",
       "      <td>GSLT</td>\n",
       "      <td>临洮</td>\n",
       "      <td>女</td>\n",
       "      <td>33.0</td>\n",
       "      <td>初中</td>\n",
       "      <td>已婚</td>\n",
       "      <td>商业、服务业人员</td>\n",
       "      <td>H-批发和零售业</td>\n",
       "      <td>...</td>\n",
       "      <td>0</td>\n",
       "      <td>15</td>\n",
       "      <td>1</td>\n",
       "      <td>0.0</td>\n",
       "      <td>0.157895</td>\n",
       "      <td>0.052632</td>\n",
       "      <td>0.789474</td>\n",
       "      <td>3</td>\n",
       "      <td>589067</td>\n",
       "      <td>10710.31</td>\n",
       "    </tr>\n",
       "    <tr>\n",
       "      <th>3</th>\n",
       "      <td>206282</td>\n",
       "      <td>GSLT-0357528</td>\n",
       "      <td>GSLT</td>\n",
       "      <td>临洮</td>\n",
       "      <td>女</td>\n",
       "      <td>35.0</td>\n",
       "      <td>初中</td>\n",
       "      <td>已婚</td>\n",
       "      <td>NaN</td>\n",
       "      <td>H-批发和零售业</td>\n",
       "      <td>...</td>\n",
       "      <td>0</td>\n",
       "      <td>15</td>\n",
       "      <td>1</td>\n",
       "      <td>0.0</td>\n",
       "      <td>0.157895</td>\n",
       "      <td>0.052632</td>\n",
       "      <td>0.789474</td>\n",
       "      <td>3</td>\n",
       "      <td>589067</td>\n",
       "      <td>10710.31</td>\n",
       "    </tr>\n",
       "    <tr>\n",
       "      <th>4</th>\n",
       "      <td>178142</td>\n",
       "      <td>GSLT-0357011</td>\n",
       "      <td>GSLT</td>\n",
       "      <td>临洮</td>\n",
       "      <td>男</td>\n",
       "      <td>27.0</td>\n",
       "      <td>大专及以上</td>\n",
       "      <td>离异</td>\n",
       "      <td>商业、服务业人员</td>\n",
       "      <td>H-批发和零售业</td>\n",
       "      <td>...</td>\n",
       "      <td>0</td>\n",
       "      <td>15</td>\n",
       "      <td>1</td>\n",
       "      <td>0.0</td>\n",
       "      <td>0.157895</td>\n",
       "      <td>0.052632</td>\n",
       "      <td>0.789474</td>\n",
       "      <td>3</td>\n",
       "      <td>589067</td>\n",
       "      <td>10710.31</td>\n",
       "    </tr>\n",
       "  </tbody>\n",
       "</table>\n",
       "<p>5 rows × 110 columns</p>\n",
       "</div>"
      ],
      "text/plain": [
       "       creditcode    clientcode branchcode branch sex   age education  \\\n",
       "index                                                                   \n",
       "0          192860  GSLT-0357323       GSLT     临洮   男  31.0        初中   \n",
       "1          190000  GSLT-0357091       GSLT     临洮   男  32.0        高中   \n",
       "2          239297  GSLT-0357730       GSLT     临洮   女  33.0        初中   \n",
       "3          206282  GSLT-0357528       GSLT     临洮   女  35.0        初中   \n",
       "4          178142  GSLT-0357011       GSLT     临洮   男  27.0     大专及以上   \n",
       "\n",
       "      marriage       job      industry  ...  officer4 officer5 officer3  \\\n",
       "index                                   ...                               \n",
       "0           已婚  商业、服务业人员  O-居民服务和其他服务业  ...         0       15        1   \n",
       "1           已婚  商业、服务业人员   R-文化、体育和娱乐业  ...         0       15        1   \n",
       "2           已婚  商业、服务业人员      H-批发和零售业  ...         0       15        1   \n",
       "3           已婚       NaN      H-批发和零售业  ...         0       15        1   \n",
       "4           离异  商业、服务业人员      H-批发和零售业  ...         0       15        1   \n",
       "\n",
       "      officer1_ratio  officer2_ratio  officer3_ratio  officer5_ratio  \\\n",
       "index                                                                  \n",
       "0                0.0        0.157895        0.052632        0.789474   \n",
       "1                0.0        0.157895        0.052632        0.789474   \n",
       "2                0.0        0.157895        0.052632        0.789474   \n",
       "3                0.0        0.157895        0.052632        0.789474   \n",
       "4                0.0        0.157895        0.052632        0.789474   \n",
       "\n",
       "      year_found gdp2015 gdp_per_2015  \n",
       "index                                  \n",
       "0              3  589067     10710.31  \n",
       "1              3  589067     10710.31  \n",
       "2              3  589067     10710.31  \n",
       "3              3  589067     10710.31  \n",
       "4              3  589067     10710.31  \n",
       "\n",
       "[5 rows x 110 columns]"
      ]
     },
     "execution_count": 2,
     "metadata": {},
     "output_type": "execute_result"
    }
   ],
   "source": [
    "data_path=\"../data/wlx/CFPA数据.csv\"\n",
    "data=pd.read_csv(data_path,index_col=\"index\")\n",
    "data.head()"
   ]
  },
  {
   "cell_type": "code",
   "execution_count": 3,
   "metadata": {},
   "outputs": [
    {
     "data": {
      "text/plain": [
       "creditcode        26580\n",
       "clientcode        26580\n",
       "branchcode        26580\n",
       "branch            26580\n",
       "sex               26580\n",
       "                  ...  \n",
       "officer3_ratio    26580\n",
       "officer5_ratio    26580\n",
       "year_found        26580\n",
       "gdp2015           26580\n",
       "gdp_per_2015      26580\n",
       "Length: 110, dtype: int64"
      ]
     },
     "execution_count": 3,
     "metadata": {},
     "output_type": "execute_result"
    }
   ],
   "source": [
    "data.count()"
   ]
  },
  {
   "cell_type": "code",
   "execution_count": 4,
   "metadata": {},
   "outputs": [
    {
     "name": "stdout",
     "output_type": "stream",
     "text": [
      "68\n"
     ]
    }
   ],
   "source": [
    "print(data.isnull().any().sum())\n",
    "#查看缺失特征中缺失率大于50%的特征\n",
    "have_null_fea_dict = (data.isnull().sum()/len(data)).to_dict()\n",
    "fea_null_moreThanHalf = {}\n",
    "for key,value in have_null_fea_dict.items():\n",
    "    if value > 0.5:\n",
    "        fea_null_moreThanHalf[key] = value"
   ]
  },
  {
   "cell_type": "code",
   "execution_count": 5,
   "metadata": {},
   "outputs": [
    {
     "name": "stdout",
     "output_type": "stream",
     "text": [
      "['feeling', 'position', 'historydebt', 'overdue', 'guarantee', 'change', 'stability', 'finresource41', 'amount4', 'amount41', 'time4', 'use4', 'date4', 'overdue4', 'reason7']\n"
     ]
    }
   ],
   "source": [
    "null_fea=list(fea_null_moreThanHalf.keys())\n",
    "null_fea.remove('finresource4')\n",
    "print(null_fea)"
   ]
  },
  {
   "cell_type": "code",
   "execution_count": 6,
   "metadata": {},
   "outputs": [],
   "source": [
    "#一值处理\n",
    "one_value_fea = [col for col in data.columns if data[col].nunique() <= 1]"
   ]
  },
  {
   "cell_type": "code",
   "execution_count": 7,
   "metadata": {},
   "outputs": [
    {
     "name": "stdout",
     "output_type": "stream",
     "text": [
      "['finresource4', 'detail7', 'type7']\n"
     ]
    }
   ],
   "source": [
    "print(one_value_fea)"
   ]
  },
  {
   "cell_type": "code",
   "execution_count": 8,
   "metadata": {},
   "outputs": [],
   "source": [
    "data.drop(one_value_fea,axis=1,inplace=True)\n",
    "data.drop(null_fea,axis=1,inplace=True)"
   ]
  },
  {
   "cell_type": "code",
   "execution_count": 9,
   "metadata": {},
   "outputs": [],
   "source": [
    "\n",
    "numerical_fea = list(data.select_dtypes(exclude=['object']).columns)\n",
    "category_fea = list(filter(lambda x: x not in numerical_fea,list(data.columns)))"
   ]
  },
  {
   "cell_type": "code",
   "execution_count": 10,
   "metadata": {},
   "outputs": [
    {
     "name": "stdout",
     "output_type": "stream",
     "text": [
      "['clientcode', 'branchcode', 'branch', 'sex', 'education', 'marriage', 'job', 'industry', 'incomesource', 'house', 'type', 'working', 'operate', 'opentime', 'businessscope', 'organization', 'changsuo', 'license', 'clientcode2', 'relation2', 'gt2', 'sex2', 'labor2', 'benxian2', 'education2', 'sex3', 'education3', 'marriage3', 'clientcode4', 'branchcode7', 'branch7', 'date7', 'use7', 'ahead7', 'overdue7', 'zhuxiao7']\n"
     ]
    }
   ],
   "source": [
    "len(category_fea)\n",
    "print(category_fea)"
   ]
  },
  {
   "cell_type": "code",
   "execution_count": 11,
   "metadata": {},
   "outputs": [
    {
     "data": {
      "text/plain": [
       "56"
      ]
     },
     "execution_count": 11,
     "metadata": {},
     "output_type": "execute_result"
    }
   ],
   "source": [
    "len(numerical_fea)"
   ]
  },
  {
   "cell_type": "code",
   "execution_count": 12,
   "metadata": {},
   "outputs": [
    {
     "data": {
      "text/plain": [
       "(26580, 92)"
      ]
     },
     "execution_count": 12,
     "metadata": {},
     "output_type": "execute_result"
    }
   ],
   "source": [
    "data.shape"
   ]
  },
  {
   "cell_type": "code",
   "execution_count": 13,
   "metadata": {},
   "outputs": [],
   "source": [
    "#类别特征处理\n",
    "data1=pd.DataFrame(data)"
   ]
  },
  {
   "cell_type": "code",
   "execution_count": 14,
   "metadata": {},
   "outputs": [
    {
     "name": "stdout",
     "output_type": "stream",
     "text": [
      "len: 19523\n",
      "len: 19523\n"
     ]
    }
   ],
   "source": [
    "\n",
    "data1['sex']= data1['sex'].map({'男':1,'女':0})\n",
    "data1['sex2']= data1['sex2'].map({'男':1,'女':0})\n",
    "data1['sex3']= data1['sex3'].map({'男':1,'女':0})\n",
    "#education\n",
    "data1['education']= data1['education'].map({'小学以下':0,'小学':6,'初中':9,'高中':12,'大专及以上':16})\n",
    "data1['education2']= data1['education2'].map({'小学以下':0,'小学':6,'初中':9,'高中':12,'大专及以上':16})\n",
    "data1['education3']= data1['education3'].map({'小学以下':0,'小学':6,'初中':9,'高中':12,'大专及以上':16})\n",
    "#marriage\n",
    "data1['marriage']= data1['marriage'].map({'未婚':0,'离异':0,'丧偶':0,'已婚':1,'再婚':1})\n",
    "data1['marriage3']= data1['marriage3'].map({'未婚':0,'离异':0,'丧偶':0,'已婚':1,'再婚':1})\n",
    "#job\n",
    "data1['job']= data1['job'].map({'农、林、牧、渔、水利业生产人员':1,'专业技术人员':2,'办事人员和有关人员':3,'商业、服务业人员':4,\n",
    "                                '国家机关、党群组织、企业、事业单位负责人':5,'生产、运输设备操作人员及有关人员':6,'不便分类的其他从业人员':7,\n",
    "                               '未知':8})\n",
    "#incomesource\n",
    "data1['incomesource']= data1['incomesource'].map({'经营收入':1,'工资收入':2,'其他收入':3})\n",
    "#house\n",
    "data1['house']= data1['house'].map({'自有商品房':1,'自有农房':1,'亲属住房':0,'其他':0,'租住':0,'公有商品房':0})\n",
    "#type\n",
    "data1['type']= data1['type'].map({'农户':1,'非农户':0})\n",
    "#working\n",
    "data1['working']= data1['working'].map({'是':1,'否':0})\n",
    "#operate\n",
    "data1['operate']= data1['operate'].map({'是':1,'否':0})\n",
    "data1['industry']=data1['industry'].map({'A-农、林、牧、渔业':1,'B-采掘业':2,'C-制造业':3,'D-电力、燃气及水的生产和供应业':4,\n",
    "                                         'E-建筑业':5,'F-交通运输、仓储和邮政业':6,'G-信息传输、计算机服务和软件业':7,'H-批发和零售业':8,\n",
    "                                         'I-住宿和餐饮业':9,'J-金融业':10,'K-房地产业':11,'L-租赁和商务服务业':12,'M-科学研究、技术服务业和地质勘察业':13,\n",
    "                                         'N-水利、环境和公共设施管理业':14,'O-居民服务和其他服务业':15,'P-教育':16,'Q-卫生、社会保障和社会福利业':17,\n",
    "                                         'R-文化、体育和娱乐业':18,'S-公共管理和社会组织':19,'T-国际组织':20,'Z-未知':0})\n",
    "#organization\n",
    "data1['organization']= data1['organization'].map({'个体':1,'合伙':2,'其他':0})\n",
    "#organization\n",
    "data1['changsuo']= data1['changsuo'].map({'自有':1,'租赁':2,'其他':0})\n",
    "#license\n",
    "data1['license']= data1['license'].map({'有':1,'无':0})\n",
    "#与申请人关系\n",
    "data1['relation2']= data1['relation2'].map({'配偶':1,'非直系亲属':2,'朋友':3,'子女':4,'母':5,'父':6,'其他':7})\n",
    "#是否共同借款人\n",
    "data1['gt2']= data1['gt2'].map({'是':1,'否':0})\n",
    "#劳动人口\n",
    "data1['labor2']= data1['labor2'].map({'是':1,'否':0})\n",
    "#居住在本县\n",
    "data1['benxian2']= data1['benxian2'].map({'是':1,'否':0})\n",
    "#贷款用途\n",
    "data1['use7']= data1['use7'].map({'其他行业':0,'批发和零售贸易':1,'养殖业':2,'种植业':3,'社会服务业':4,'交通运输业':5,'农房改建':6,\n",
    "                                 '生产加工业':7})\n",
    "#是否提前还款\n",
    "data1['ahead7']= data1['ahead7'].map({'是':1,'否':0})\n",
    "#是否逾期\n",
    "data1['overdue7']= data1['overdue7'].map({'是':1,'否':0})\n",
    "#是否注销过\n",
    "data1['zhuxiao7']= data1['zhuxiao7'].map({'是':1,'否':0})\n",
    "print(\"len:\",len(data1['clientcode'].value_counts()))\n",
    "print(\"len:\",len(data1['clientcode2'].value_counts().index))"
   ]
  },
  {
   "cell_type": "code",
   "execution_count": 15,
   "metadata": {},
   "outputs": [
    {
     "data": {
      "text/plain": [
       "Int64Index([1, 2, 3, 4, 5, 6, 7, 8, 9, 10, 11, 12, 13, 14, 15, 17, 16, 18, 19,\n",
       "            20],\n",
       "           dtype='int64')"
      ]
     },
     "execution_count": 15,
     "metadata": {},
     "output_type": "execute_result"
    }
   ],
   "source": [
    "data1['loannumber'].value_counts().index"
   ]
  },
  {
   "cell_type": "code",
   "execution_count": 16,
   "metadata": {},
   "outputs": [],
   "source": [
    "numerical_fea1 = list(data1.select_dtypes(exclude=['object']).columns)\n",
    "category_fea = list(filter(lambda x: x not in numerical_fea1,list (data1.columns)))"
   ]
  },
  {
   "cell_type": "code",
   "execution_count": 17,
   "metadata": {},
   "outputs": [
    {
     "data": {
      "text/plain": [
       "['clientcode',\n",
       " 'branchcode',\n",
       " 'branch',\n",
       " 'opentime',\n",
       " 'businessscope',\n",
       " 'clientcode2',\n",
       " 'clientcode4',\n",
       " 'branchcode7',\n",
       " 'branch7',\n",
       " 'date7']"
      ]
     },
     "execution_count": 17,
     "metadata": {},
     "output_type": "execute_result"
    }
   ],
   "source": [
    "category_fea"
   ]
  },
  {
   "cell_type": "code",
   "execution_count": 18,
   "metadata": {},
   "outputs": [
    {
     "name": "stdout",
     "output_type": "stream",
     "text": [
      "2016-02-02    271\n",
      "2016-02-03    260\n",
      "2016-01-20    117\n",
      "2015-02-13    111\n",
      "2016-01-21    103\n",
      "             ... \n",
      "2015-07-19      1\n",
      "2015-10-04      1\n",
      "2014-05-31      1\n",
      "2016-01-02      1\n",
      "2015-03-02      1\n",
      "Name: date7, Length: 900, dtype: int64\n"
     ]
    }
   ],
   "source": [
    "print(data['date7'].value_counts())"
   ]
  },
  {
   "cell_type": "code",
   "execution_count": 19,
   "metadata": {},
   "outputs": [
    {
     "data": {
      "text/html": [
       "<div>\n",
       "<style scoped>\n",
       "    .dataframe tbody tr th:only-of-type {\n",
       "        vertical-align: middle;\n",
       "    }\n",
       "\n",
       "    .dataframe tbody tr th {\n",
       "        vertical-align: top;\n",
       "    }\n",
       "\n",
       "    .dataframe thead th {\n",
       "        text-align: right;\n",
       "    }\n",
       "</style>\n",
       "<table border=\"1\" class=\"dataframe\">\n",
       "  <thead>\n",
       "    <tr style=\"text-align: right;\">\n",
       "      <th></th>\n",
       "      <th>creditcode</th>\n",
       "      <th>clientcode</th>\n",
       "      <th>branchcode</th>\n",
       "      <th>branch</th>\n",
       "      <th>sex</th>\n",
       "      <th>age</th>\n",
       "      <th>education</th>\n",
       "      <th>marriage</th>\n",
       "      <th>job</th>\n",
       "      <th>industry</th>\n",
       "      <th>...</th>\n",
       "      <th>officer4</th>\n",
       "      <th>officer5</th>\n",
       "      <th>officer3</th>\n",
       "      <th>officer1_ratio</th>\n",
       "      <th>officer2_ratio</th>\n",
       "      <th>officer3_ratio</th>\n",
       "      <th>officer5_ratio</th>\n",
       "      <th>year_found</th>\n",
       "      <th>gdp2015</th>\n",
       "      <th>gdp_per_2015</th>\n",
       "    </tr>\n",
       "    <tr>\n",
       "      <th>index</th>\n",
       "      <th></th>\n",
       "      <th></th>\n",
       "      <th></th>\n",
       "      <th></th>\n",
       "      <th></th>\n",
       "      <th></th>\n",
       "      <th></th>\n",
       "      <th></th>\n",
       "      <th></th>\n",
       "      <th></th>\n",
       "      <th></th>\n",
       "      <th></th>\n",
       "      <th></th>\n",
       "      <th></th>\n",
       "      <th></th>\n",
       "      <th></th>\n",
       "      <th></th>\n",
       "      <th></th>\n",
       "      <th></th>\n",
       "      <th></th>\n",
       "      <th></th>\n",
       "    </tr>\n",
       "  </thead>\n",
       "  <tbody>\n",
       "    <tr>\n",
       "      <th>0</th>\n",
       "      <td>192860</td>\n",
       "      <td>GSLT-0357323</td>\n",
       "      <td>GSLT</td>\n",
       "      <td>临洮</td>\n",
       "      <td>1</td>\n",
       "      <td>31.0</td>\n",
       "      <td>9.0</td>\n",
       "      <td>1.0</td>\n",
       "      <td>4.0</td>\n",
       "      <td>15.0</td>\n",
       "      <td>...</td>\n",
       "      <td>0</td>\n",
       "      <td>15</td>\n",
       "      <td>1</td>\n",
       "      <td>0.0</td>\n",
       "      <td>0.157895</td>\n",
       "      <td>0.052632</td>\n",
       "      <td>0.789474</td>\n",
       "      <td>3</td>\n",
       "      <td>589067</td>\n",
       "      <td>10710.31</td>\n",
       "    </tr>\n",
       "    <tr>\n",
       "      <th>1</th>\n",
       "      <td>190000</td>\n",
       "      <td>GSLT-0357091</td>\n",
       "      <td>GSLT</td>\n",
       "      <td>临洮</td>\n",
       "      <td>1</td>\n",
       "      <td>32.0</td>\n",
       "      <td>12.0</td>\n",
       "      <td>1.0</td>\n",
       "      <td>4.0</td>\n",
       "      <td>18.0</td>\n",
       "      <td>...</td>\n",
       "      <td>0</td>\n",
       "      <td>15</td>\n",
       "      <td>1</td>\n",
       "      <td>0.0</td>\n",
       "      <td>0.157895</td>\n",
       "      <td>0.052632</td>\n",
       "      <td>0.789474</td>\n",
       "      <td>3</td>\n",
       "      <td>589067</td>\n",
       "      <td>10710.31</td>\n",
       "    </tr>\n",
       "    <tr>\n",
       "      <th>2</th>\n",
       "      <td>239297</td>\n",
       "      <td>GSLT-0357730</td>\n",
       "      <td>GSLT</td>\n",
       "      <td>临洮</td>\n",
       "      <td>0</td>\n",
       "      <td>33.0</td>\n",
       "      <td>9.0</td>\n",
       "      <td>1.0</td>\n",
       "      <td>4.0</td>\n",
       "      <td>8.0</td>\n",
       "      <td>...</td>\n",
       "      <td>0</td>\n",
       "      <td>15</td>\n",
       "      <td>1</td>\n",
       "      <td>0.0</td>\n",
       "      <td>0.157895</td>\n",
       "      <td>0.052632</td>\n",
       "      <td>0.789474</td>\n",
       "      <td>3</td>\n",
       "      <td>589067</td>\n",
       "      <td>10710.31</td>\n",
       "    </tr>\n",
       "    <tr>\n",
       "      <th>3</th>\n",
       "      <td>206282</td>\n",
       "      <td>GSLT-0357528</td>\n",
       "      <td>GSLT</td>\n",
       "      <td>临洮</td>\n",
       "      <td>0</td>\n",
       "      <td>35.0</td>\n",
       "      <td>9.0</td>\n",
       "      <td>1.0</td>\n",
       "      <td>NaN</td>\n",
       "      <td>8.0</td>\n",
       "      <td>...</td>\n",
       "      <td>0</td>\n",
       "      <td>15</td>\n",
       "      <td>1</td>\n",
       "      <td>0.0</td>\n",
       "      <td>0.157895</td>\n",
       "      <td>0.052632</td>\n",
       "      <td>0.789474</td>\n",
       "      <td>3</td>\n",
       "      <td>589067</td>\n",
       "      <td>10710.31</td>\n",
       "    </tr>\n",
       "    <tr>\n",
       "      <th>4</th>\n",
       "      <td>178142</td>\n",
       "      <td>GSLT-0357011</td>\n",
       "      <td>GSLT</td>\n",
       "      <td>临洮</td>\n",
       "      <td>1</td>\n",
       "      <td>27.0</td>\n",
       "      <td>16.0</td>\n",
       "      <td>0.0</td>\n",
       "      <td>4.0</td>\n",
       "      <td>8.0</td>\n",
       "      <td>...</td>\n",
       "      <td>0</td>\n",
       "      <td>15</td>\n",
       "      <td>1</td>\n",
       "      <td>0.0</td>\n",
       "      <td>0.157895</td>\n",
       "      <td>0.052632</td>\n",
       "      <td>0.789474</td>\n",
       "      <td>3</td>\n",
       "      <td>589067</td>\n",
       "      <td>10710.31</td>\n",
       "    </tr>\n",
       "  </tbody>\n",
       "</table>\n",
       "<p>5 rows × 92 columns</p>\n",
       "</div>"
      ],
      "text/plain": [
       "       creditcode    clientcode branchcode branch  sex   age  education  \\\n",
       "index                                                                     \n",
       "0          192860  GSLT-0357323       GSLT     临洮    1  31.0        9.0   \n",
       "1          190000  GSLT-0357091       GSLT     临洮    1  32.0       12.0   \n",
       "2          239297  GSLT-0357730       GSLT     临洮    0  33.0        9.0   \n",
       "3          206282  GSLT-0357528       GSLT     临洮    0  35.0        9.0   \n",
       "4          178142  GSLT-0357011       GSLT     临洮    1  27.0       16.0   \n",
       "\n",
       "       marriage  job  industry  ...  officer4  officer5  officer3  \\\n",
       "index                           ...                                 \n",
       "0           1.0  4.0      15.0  ...         0        15         1   \n",
       "1           1.0  4.0      18.0  ...         0        15         1   \n",
       "2           1.0  4.0       8.0  ...         0        15         1   \n",
       "3           1.0  NaN       8.0  ...         0        15         1   \n",
       "4           0.0  4.0       8.0  ...         0        15         1   \n",
       "\n",
       "       officer1_ratio  officer2_ratio  officer3_ratio  officer5_ratio  \\\n",
       "index                                                                   \n",
       "0                 0.0        0.157895        0.052632        0.789474   \n",
       "1                 0.0        0.157895        0.052632        0.789474   \n",
       "2                 0.0        0.157895        0.052632        0.789474   \n",
       "3                 0.0        0.157895        0.052632        0.789474   \n",
       "4                 0.0        0.157895        0.052632        0.789474   \n",
       "\n",
       "       year_found  gdp2015  gdp_per_2015  \n",
       "index                                     \n",
       "0               3   589067      10710.31  \n",
       "1               3   589067      10710.31  \n",
       "2               3   589067      10710.31  \n",
       "3               3   589067      10710.31  \n",
       "4               3   589067      10710.31  \n",
       "\n",
       "[5 rows x 92 columns]"
      ]
     },
     "execution_count": 19,
     "metadata": {},
     "output_type": "execute_result"
    }
   ],
   "source": [
    "data1.head()"
   ]
  },
  {
   "cell_type": "code",
   "execution_count": 20,
   "metadata": {},
   "outputs": [],
   "source": [
    "#查看data1数值型特征\n",
    "numerical_fea1 = list(data1.select_dtypes(exclude=['object']).columns)"
   ]
  },
  {
   "cell_type": "code",
   "execution_count": 21,
   "metadata": {},
   "outputs": [
    {
     "data": {
      "text/plain": [
       "['creditcode',\n",
       " 'sex',\n",
       " 'age',\n",
       " 'education',\n",
       " 'marriage',\n",
       " 'job',\n",
       " 'industry',\n",
       " 'income',\n",
       " 'incomesource',\n",
       " 'house',\n",
       " 'type',\n",
       " 'familysize',\n",
       " 'labor',\n",
       " 'loannumber',\n",
       " 'working',\n",
       " 'workyear',\n",
       " 'workincome',\n",
       " 'operate',\n",
       " 'employee',\n",
       " 'organization',\n",
       " 'changsuo',\n",
       " 'license',\n",
       " 'operateincome',\n",
       " 'tasset',\n",
       " 'tdebt',\n",
       " 'familyincome',\n",
       " 'dsratio',\n",
       " 'paymentratio',\n",
       " 'relation2',\n",
       " 'gt2',\n",
       " 'age2',\n",
       " 'sex2',\n",
       " 'labor2',\n",
       " 'benxian2',\n",
       " 'gtincome1',\n",
       " 'gtincome2',\n",
       " 'education2',\n",
       " 'num',\n",
       " 'age3',\n",
       " 'sex3',\n",
       " 'education3',\n",
       " 'dbincome1',\n",
       " 'dbincome2',\n",
       " 'marriage3',\n",
       " 'num3',\n",
       " 'amount42',\n",
       " 'loancode7',\n",
       " 'use7',\n",
       " 'amount7',\n",
       " 'ahead7',\n",
       " 'overdue7',\n",
       " 'zhuxiao7',\n",
       " 'guaran_amount',\n",
       " 'overdue_group1',\n",
       " 'overdue_group2',\n",
       " 'cancel_group1',\n",
       " 'cancel_group2',\n",
       " 'individual1',\n",
       " 'individual2',\n",
       " 'individual3',\n",
       " 'overdue_group3',\n",
       " 'cancel_group3',\n",
       " 'individual4',\n",
       " 'amount_branch1',\n",
       " 'amount_branch2',\n",
       " 'amount_branch3',\n",
       " 'year_individual',\n",
       " 'officer_ratio',\n",
       " 'staff',\n",
       " 'officer_total',\n",
       " 'officer1',\n",
       " 'officer2',\n",
       " 'officer4',\n",
       " 'officer5',\n",
       " 'officer3',\n",
       " 'officer1_ratio',\n",
       " 'officer2_ratio',\n",
       " 'officer3_ratio',\n",
       " 'officer5_ratio',\n",
       " 'year_found',\n",
       " 'gdp2015',\n",
       " 'gdp_per_2015']"
      ]
     },
     "execution_count": 21,
     "metadata": {},
     "output_type": "execute_result"
    }
   ],
   "source": [
    "numerical_fea1"
   ]
  },
  {
   "cell_type": "code",
   "execution_count": 22,
   "metadata": {},
   "outputs": [],
   "source": [
    "drop_feats=[\"creditcode\",\"clientcode\",\"branch\",\"opentime\",\"clientcode2\",\n",
    "            \"clientcode4\",\"branchcode7\",\"branch7\",\"date7\",'businessscope',\n",
    "            'branch','overdue_group1', 'overdue_group2', 'cancel_group1',\n",
    "            'cancel_group2', 'individual1', 'individual2', 'individual3',\n",
    "            'overdue_group3', 'cancel_group3', 'individual4', 'amount_branch1',\n",
    "            'amount_branch2', 'amount_branch3', 'year_individual', 'officer_ratio',\n",
    "            'staff', 'officer_total', 'officer1', 'officer2', 'officer4',\n",
    "            'officer5', 'officer3', 'officer1_ratio', 'officer2_ratio',\n",
    "            'officer3_ratio', 'officer5_ratio', 'year_found', 'gdp2015',\n",
    "            'gdp_per_2015']"
   ]
  },
  {
   "cell_type": "code",
   "execution_count": 23,
   "metadata": {},
   "outputs": [],
   "source": [
    "data1.drop(drop_feats,axis=1,inplace=True)"
   ]
  },
  {
   "cell_type": "code",
   "execution_count": 24,
   "metadata": {},
   "outputs": [
    {
     "data": {
      "text/plain": [
       "Index(['branchcode', 'sex', 'age', 'education', 'marriage', 'job', 'industry',\n",
       "       'income', 'incomesource', 'house', 'type', 'familysize', 'labor',\n",
       "       'loannumber', 'working', 'workyear', 'workincome', 'operate',\n",
       "       'employee', 'organization', 'changsuo', 'license', 'operateincome',\n",
       "       'tasset', 'tdebt', 'familyincome', 'dsratio', 'paymentratio',\n",
       "       'relation2', 'gt2', 'age2', 'sex2', 'labor2', 'benxian2', 'gtincome1',\n",
       "       'gtincome2', 'education2', 'num', 'age3', 'sex3', 'education3',\n",
       "       'dbincome1', 'dbincome2', 'marriage3', 'num3', 'amount42', 'loancode7',\n",
       "       'use7', 'amount7', 'ahead7', 'overdue7', 'zhuxiao7', 'guaran_amount'],\n",
       "      dtype='object')"
      ]
     },
     "execution_count": 24,
     "metadata": {},
     "output_type": "execute_result"
    }
   ],
   "source": [
    "data1.columns"
   ]
  },
  {
   "cell_type": "code",
   "execution_count": 26,
   "metadata": {},
   "outputs": [],
   "source": [
    "data1.to_csv(\"../data/wlx/CVPA_preprocess.csv\",index=False)"
   ]
  },
  {
   "cell_type": "code",
   "execution_count": null,
   "metadata": {},
   "outputs": [],
   "source": []
  }
 ],
 "metadata": {
  "kernelspec": {
   "display_name": "Python 3 (ipykernel)",
   "language": "python",
   "name": "python3"
  },
  "language_info": {
   "codemirror_mode": {
    "name": "ipython",
    "version": 3
   },
   "file_extension": ".py",
   "mimetype": "text/x-python",
   "name": "python",
   "nbconvert_exporter": "python",
   "pygments_lexer": "ipython3",
   "version": "3.8.16"
  }
 },
 "nbformat": 4,
 "nbformat_minor": 2
}
